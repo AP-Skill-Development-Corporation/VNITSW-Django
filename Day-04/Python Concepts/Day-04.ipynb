{
 "cells": [
  {
   "cell_type": "code",
   "execution_count": 1,
   "id": "e303421e",
   "metadata": {},
   "outputs": [],
   "source": [
    "from student import data"
   ]
  },
  {
   "cell_type": "code",
   "execution_count": 2,
   "id": "09ea4d74",
   "metadata": {},
   "outputs": [
    {
     "name": "stdout",
     "output_type": "stream",
     "text": [
      "['__builtins__', '__cached__', '__doc__', '__file__', '__loader__', '__name__', '__package__', '__spec__', 'p']\n"
     ]
    }
   ],
   "source": [
    "print(dir(data))"
   ]
  },
  {
   "cell_type": "code",
   "execution_count": 3,
   "id": "2efbc45d",
   "metadata": {},
   "outputs": [
    {
     "name": "stdout",
     "output_type": "stream",
     "text": [
      "Good Evening All\n"
     ]
    }
   ],
   "source": [
    "print(data.p)"
   ]
  },
  {
   "cell_type": "code",
   "execution_count": 2,
   "id": "97b144f3",
   "metadata": {},
   "outputs": [],
   "source": [
    "from student.data import facto"
   ]
  },
  {
   "cell_type": "code",
   "execution_count": 3,
   "id": "6d678a3d",
   "metadata": {},
   "outputs": [
    {
     "name": "stdout",
     "output_type": "stream",
     "text": [
      "Enter a number: 5\n",
      "120\n"
     ]
    }
   ],
   "source": [
    "print(facto())"
   ]
  },
  {
   "cell_type": "code",
   "execution_count": 4,
   "id": "6caf456d",
   "metadata": {},
   "outputs": [],
   "source": [
    "from student.data import *"
   ]
  },
  {
   "cell_type": "code",
   "execution_count": 5,
   "id": "84d706a1",
   "metadata": {},
   "outputs": [
    {
     "name": "stdout",
     "output_type": "stream",
     "text": [
      "Good Evening All\n"
     ]
    }
   ],
   "source": [
    "print(p)"
   ]
  },
  {
   "cell_type": "code",
   "execution_count": 6,
   "id": "1d71c9dc",
   "metadata": {},
   "outputs": [
    {
     "name": "stdout",
     "output_type": "stream",
     "text": [
      "Enter a number: 3\n"
     ]
    },
    {
     "data": {
      "text/plain": [
       "6"
      ]
     },
     "execution_count": 6,
     "metadata": {},
     "output_type": "execute_result"
    }
   ],
   "source": [
    "facto()"
   ]
  },
  {
   "cell_type": "code",
   "execution_count": null,
   "id": "55a1767d",
   "metadata": {},
   "outputs": [],
   "source": []
  }
 ],
 "metadata": {
  "kernelspec": {
   "display_name": "Python 3 (ipykernel)",
   "language": "python",
   "name": "python3"
  },
  "language_info": {
   "codemirror_mode": {
    "name": "ipython",
    "version": 3
   },
   "file_extension": ".py",
   "mimetype": "text/x-python",
   "name": "python",
   "nbconvert_exporter": "python",
   "pygments_lexer": "ipython3",
   "version": "3.9.13"
  }
 },
 "nbformat": 4,
 "nbformat_minor": 5
}
