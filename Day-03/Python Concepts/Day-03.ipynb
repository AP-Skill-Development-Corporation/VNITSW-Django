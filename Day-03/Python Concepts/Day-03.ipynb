{
 "cells": [
  {
   "cell_type": "code",
   "execution_count": 10,
   "id": "63d58001",
   "metadata": {},
   "outputs": [
    {
     "name": "stdout",
     "output_type": "stream",
     "text": [
      "Enter Roll Number: E34\n",
      "Enter your details: rajesh rajesh@gmail cse 45\n",
      "Roll Number: E34\n",
      "Your details:\n",
      "=============\n",
      "Name: rajesh\n",
      "Email: rajesh@gmail\n",
      "Branch: cse\n",
      "Time: 45\n"
     ]
    }
   ],
   "source": [
    "r = input(\"Enter Roll Number: \")\n",
    "k = input(\"Enter your details: \").split()\n",
    "print(f\"Roll Number: {r}\")\n",
    "# print(\"Roll Number: {}\".format(r))\n",
    "print(\"Your details:\")\n",
    "print(\"=============\")\n",
    "print(f\"Name: {k[0]}\")\n",
    "print(f\"Email: {k[1]}\")\n",
    "print(f\"Branch: {k[2]}\")\n",
    "print(f\"Time: {k[3]}\")"
   ]
  },
  {
   "cell_type": "markdown",
   "id": "16b92b67",
   "metadata": {},
   "source": [
    "## Function Argument Types:\n",
    "    - Required or Positional Argument\n",
    "    - Default Argument\n",
    "    - Keyword Argument\n",
    "    - Variable-Length Argument\n",
    "        - Arbitrary required Argument\n",
    "        - Arbitrary keyword Argument"
   ]
  },
  {
   "cell_type": "markdown",
   "id": "69e464d3",
   "metadata": {},
   "source": [
    "## Required Argument:"
   ]
  },
  {
   "cell_type": "code",
   "execution_count": 1,
   "id": "1ffac6e4",
   "metadata": {},
   "outputs": [
    {
     "name": "stdout",
     "output_type": "stream",
     "text": [
      "Enter Id: S342\n",
      "Enter Name: Prasanna\n"
     ]
    },
    {
     "ename": "TypeError",
     "evalue": "student() missing 1 required positional argument: 'c'",
     "output_type": "error",
     "traceback": [
      "\u001b[1;31m---------------------------------------------------------------------------\u001b[0m",
      "\u001b[1;31mTypeError\u001b[0m                                 Traceback (most recent call last)",
      "Cell \u001b[1;32mIn[1], line 9\u001b[0m\n\u001b[0;32m      7\u001b[0m stid \u001b[38;5;241m=\u001b[39m \u001b[38;5;28minput\u001b[39m(\u001b[38;5;124m\"\u001b[39m\u001b[38;5;124mEnter Id: \u001b[39m\u001b[38;5;124m\"\u001b[39m)\n\u001b[0;32m      8\u001b[0m sname \u001b[38;5;241m=\u001b[39m \u001b[38;5;28minput\u001b[39m(\u001b[38;5;124m\"\u001b[39m\u001b[38;5;124mEnter Name: \u001b[39m\u001b[38;5;124m\"\u001b[39m)\n\u001b[1;32m----> 9\u001b[0m \u001b[43mstudent\u001b[49m\u001b[43m(\u001b[49m\u001b[43mstid\u001b[49m\u001b[43m,\u001b[49m\u001b[43msname\u001b[49m\u001b[43m)\u001b[49m\n",
      "\u001b[1;31mTypeError\u001b[0m: student() missing 1 required positional argument: 'c'"
     ]
    }
   ],
   "source": [
    "def student(d,n,c):\n",
    "    print(f\"College name is: {c}\")\n",
    "    print(f\"Entered Id is: {d}\")\n",
    "    print(f\"Entered Name is: {n}\")\n",
    "    return\n",
    "\n",
    "stid = input(\"Enter Id: \")\n",
    "sname = input(\"Enter Name: \")\n",
    "student(stid,sname)"
   ]
  },
  {
   "cell_type": "code",
   "execution_count": 2,
   "id": "c1cbfd43",
   "metadata": {},
   "outputs": [
    {
     "name": "stdout",
     "output_type": "stream",
     "text": [
      "Enter Id: S34\n",
      "Enter Name: Lalitha\n",
      "Enter College Name: VNITSW\n",
      "College name is: VNITSW\n",
      "Entered Id is: S34\n",
      "Entered Name is: Lalitha\n"
     ]
    }
   ],
   "source": [
    "def student(d,n,c):\n",
    "    print(f\"College name is: {c}\")\n",
    "    print(f\"Entered Id is: {d}\")\n",
    "    print(f\"Entered Name is: {n}\")\n",
    "    return\n",
    "\n",
    "stid = input(\"Enter Id: \")\n",
    "sname = input(\"Enter Name: \")\n",
    "sclge = input(\"Enter College Name: \")\n",
    "student(stid,sname,sclge)"
   ]
  },
  {
   "cell_type": "code",
   "execution_count": 3,
   "id": "9f0a4318",
   "metadata": {},
   "outputs": [
    {
     "name": "stdout",
     "output_type": "stream",
     "text": [
      "Enter Id: ST45\n",
      "Enter Name: Rajesh\n",
      "Enter College Name: VVVIT\n"
     ]
    },
    {
     "ename": "TypeError",
     "evalue": "student() takes 2 positional arguments but 3 were given",
     "output_type": "error",
     "traceback": [
      "\u001b[1;31m---------------------------------------------------------------------------\u001b[0m",
      "\u001b[1;31mTypeError\u001b[0m                                 Traceback (most recent call last)",
      "Cell \u001b[1;32mIn[3], line 9\u001b[0m\n\u001b[0;32m      7\u001b[0m sname \u001b[38;5;241m=\u001b[39m \u001b[38;5;28minput\u001b[39m(\u001b[38;5;124m\"\u001b[39m\u001b[38;5;124mEnter Name: \u001b[39m\u001b[38;5;124m\"\u001b[39m)\n\u001b[0;32m      8\u001b[0m sclge \u001b[38;5;241m=\u001b[39m \u001b[38;5;28minput\u001b[39m(\u001b[38;5;124m\"\u001b[39m\u001b[38;5;124mEnter College Name: \u001b[39m\u001b[38;5;124m\"\u001b[39m)\n\u001b[1;32m----> 9\u001b[0m \u001b[43mstudent\u001b[49m\u001b[43m(\u001b[49m\u001b[43mstid\u001b[49m\u001b[43m,\u001b[49m\u001b[43msname\u001b[49m\u001b[43m,\u001b[49m\u001b[43msclge\u001b[49m\u001b[43m)\u001b[49m\n",
      "\u001b[1;31mTypeError\u001b[0m: student() takes 2 positional arguments but 3 were given"
     ]
    }
   ],
   "source": [
    "def student(d,n):\n",
    "    print(f\"Entered Id is: {d}\")\n",
    "    print(f\"Entered Name is: {n}\")\n",
    "    return\n",
    "\n",
    "stid = input(\"Enter Id: \")\n",
    "sname = input(\"Enter Name: \")\n",
    "sclge = input(\"Enter College Name: \")\n",
    "student(stid,sname,sclge)"
   ]
  },
  {
   "cell_type": "markdown",
   "id": "c08d0b9e",
   "metadata": {},
   "source": [
    "## Default Argument"
   ]
  },
  {
   "cell_type": "code",
   "execution_count": 4,
   "id": "3c39bb0f",
   "metadata": {},
   "outputs": [
    {
     "name": "stdout",
     "output_type": "stream",
     "text": [
      "Enter Name: Tilak\n",
      "Enter Salary: 34000\n",
      "Enter Designation: Junior Trainee\n"
     ]
    },
    {
     "ename": "TypeError",
     "evalue": "employee() missing 1 required positional argument: 'c'",
     "output_type": "error",
     "traceback": [
      "\u001b[1;31m---------------------------------------------------------------------------\u001b[0m",
      "\u001b[1;31mTypeError\u001b[0m                                 Traceback (most recent call last)",
      "Cell \u001b[1;32mIn[4], line 12\u001b[0m\n\u001b[0;32m     10\u001b[0m esal \u001b[38;5;241m=\u001b[39m \u001b[38;5;28mfloat\u001b[39m(\u001b[38;5;28minput\u001b[39m(\u001b[38;5;124m\"\u001b[39m\u001b[38;5;124mEnter Salary: \u001b[39m\u001b[38;5;124m\"\u001b[39m))\n\u001b[0;32m     11\u001b[0m edesg \u001b[38;5;241m=\u001b[39m \u001b[38;5;28minput\u001b[39m(\u001b[38;5;124m\"\u001b[39m\u001b[38;5;124mEnter Designation: \u001b[39m\u001b[38;5;124m\"\u001b[39m)\n\u001b[1;32m---> 12\u001b[0m \u001b[43memployee\u001b[49m\u001b[43m(\u001b[49m\u001b[43mename\u001b[49m\u001b[43m,\u001b[49m\u001b[43mesal\u001b[49m\u001b[43m,\u001b[49m\u001b[43medesg\u001b[49m\u001b[43m)\u001b[49m\n",
      "\u001b[1;31mTypeError\u001b[0m: employee() missing 1 required positional argument: 'c'"
     ]
    }
   ],
   "source": [
    "def employee(n,s,d,c):\n",
    "    print(\"Employee Data\")\n",
    "    print(f\"Company Name: {c}\")\n",
    "    print(f\"Employee Name: {n}\")\n",
    "    print(f\"Employee Salary: {s}\")\n",
    "    print(f\"Designation: {d}\")\n",
    "    return\n",
    "\n",
    "ename = input(\"Enter Name: \")\n",
    "esal = float(input(\"Enter Salary: \"))\n",
    "edesg = input(\"Enter Designation: \")\n",
    "employee(ename,esal,edesg)"
   ]
  },
  {
   "cell_type": "code",
   "execution_count": 5,
   "id": "d408e5f1",
   "metadata": {},
   "outputs": [
    {
     "name": "stdout",
     "output_type": "stream",
     "text": [
      "Enter Name: Mamatha\n",
      "Enter Salary: 25000\n",
      "Enter Designation: Senior Trainee\n",
      "Employee Data\n",
      "Company Name: TCS\n",
      "Employee Name: Mamatha\n",
      "Employee Salary: 25000.0\n",
      "Designation: Senior Trainee\n"
     ]
    }
   ],
   "source": [
    "def employee(n,s,d,c=\"TCS\"):\n",
    "    print(\"Employee Data\")\n",
    "    print(f\"Company Name: {c}\")\n",
    "    print(f\"Employee Name: {n}\")\n",
    "    print(f\"Employee Salary: {s}\")\n",
    "    print(f\"Designation: {d}\")\n",
    "    return\n",
    "\n",
    "ename = input(\"Enter Name: \")\n",
    "esal = float(input(\"Enter Salary: \"))\n",
    "edesg = input(\"Enter Designation: \")\n",
    "employee(ename,esal,edesg)"
   ]
  },
  {
   "cell_type": "code",
   "execution_count": 6,
   "id": "5f75cad2",
   "metadata": {},
   "outputs": [
    {
     "name": "stdout",
     "output_type": "stream",
     "text": [
      "Enter Name: Kamala\n",
      "Enter Salary: 15000\n",
      "Employee Data\n",
      "Company Name: TCS\n",
      "Employee Name: Kamala\n",
      "Employee Salary: 15000.0\n",
      "Designation: Developer\n"
     ]
    }
   ],
   "source": [
    "def employee(n,s,d=\"Developer\",c=\"TCS\"):\n",
    "    print(\"Employee Data\")\n",
    "    print(f\"Company Name: {c}\")\n",
    "    print(f\"Employee Name: {n}\")\n",
    "    print(f\"Employee Salary: {s}\")\n",
    "    print(f\"Designation: {d}\")\n",
    "    return\n",
    "\n",
    "ename = input(\"Enter Name: \")\n",
    "esal = float(input(\"Enter Salary: \"))\n",
    "# edesg = input(\"Enter Designation: \")\n",
    "employee(ename,esal)"
   ]
  },
  {
   "cell_type": "code",
   "execution_count": 7,
   "id": "c281bb98",
   "metadata": {},
   "outputs": [
    {
     "name": "stdout",
     "output_type": "stream",
     "text": [
      "Enter Name: Gayatri\n",
      "Enter Salary: 26000\n",
      "Enter Designation: Tester\n",
      "Employee Data\n",
      "Company Name: TCS\n",
      "Employee Name: Gayatri\n",
      "Employee Salary: 26000.0\n",
      "Designation: Tester\n"
     ]
    }
   ],
   "source": [
    "def employee(n,s,d=\"Developer\",c=\"TCS\"):\n",
    "    print(\"Employee Data\")\n",
    "    print(f\"Company Name: {c}\")\n",
    "    print(f\"Employee Name: {n}\")\n",
    "    print(f\"Employee Salary: {s}\")\n",
    "    print(f\"Designation: {d}\")\n",
    "    return\n",
    "\n",
    "ename = input(\"Enter Name: \")\n",
    "esal = float(input(\"Enter Salary: \"))\n",
    "edesg = input(\"Enter Designation: \")\n",
    "employee(ename,esal,edesg)"
   ]
  },
  {
   "cell_type": "code",
   "execution_count": 8,
   "id": "810c09ee",
   "metadata": {},
   "outputs": [
    {
     "name": "stdout",
     "output_type": "stream",
     "text": [
      "Employee Data\n",
      "Company Name: TCS\n",
      "Employee Name: Tarun\n",
      "Employee Salary: 45000\n",
      "Designation: Developer\n"
     ]
    }
   ],
   "source": [
    "def employee(n=\"Tarun\",s=\"45000\",d=\"Developer\",c=\"TCS\"):\n",
    "    print(\"Employee Data\")\n",
    "    print(f\"Company Name: {c}\")\n",
    "    print(f\"Employee Name: {n}\")\n",
    "    print(f\"Employee Salary: {s}\")\n",
    "    print(f\"Designation: {d}\")\n",
    "    return\n",
    "\n",
    "# ename = input(\"Enter Name: \")\n",
    "# esal = float(input(\"Enter Salary: \"))\n",
    "# edesg = input(\"Enter Designation: \")\n",
    "employee()"
   ]
  },
  {
   "cell_type": "code",
   "execution_count": 9,
   "id": "770bd0d5",
   "metadata": {},
   "outputs": [
    {
     "ename": "SyntaxError",
     "evalue": "non-default argument follows default argument (410113258.py, line 1)",
     "output_type": "error",
     "traceback": [
      "\u001b[1;36m  Cell \u001b[1;32mIn[9], line 1\u001b[1;36m\u001b[0m\n\u001b[1;33m    def employee(n,s,d=\"Developer\",c):\u001b[0m\n\u001b[1;37m                                    ^\u001b[0m\n\u001b[1;31mSyntaxError\u001b[0m\u001b[1;31m:\u001b[0m non-default argument follows default argument\n"
     ]
    }
   ],
   "source": [
    "def employee(n,s,d=\"Developer\",c):\n",
    "    print(\"Employee Data\")\n",
    "    print(f\"Company Name: {c}\")\n",
    "    print(f\"Employee Name: {n}\")\n",
    "    print(f\"Employee Salary: {s}\")\n",
    "    print(f\"Designation: {d}\")\n",
    "    return\n",
    "\n",
    "ename = input(\"Enter Name: \")\n",
    "esal = float(input(\"Enter Salary: \"))\n",
    "edesg = input(\"Enter Designation: \")\n",
    "employee(ename,esal,edesg)"
   ]
  },
  {
   "cell_type": "markdown",
   "id": "4f41bfaf",
   "metadata": {},
   "source": [
    "## Keyword Argument"
   ]
  },
  {
   "cell_type": "code",
   "execution_count": 12,
   "id": "1a7a2a57",
   "metadata": {},
   "outputs": [
    {
     "name": "stdout",
     "output_type": "stream",
     "text": [
      "Student Details:\n",
      "Name: Girisha\n",
      "Roll Number: ER34\n",
      "Branch: CSD\n"
     ]
    }
   ],
   "source": [
    "def stdnt(b,c,a):\n",
    "    print(\"Student Details:\")\n",
    "    print(f\"Name: {c}\")\n",
    "    print(\"Roll Number: {}\".format(b))\n",
    "    print(\"Branch: {}\".format(a))\n",
    "    return\n",
    "\n",
    "stdnt(\"ER34\",\"Girisha\",\"CSD\")"
   ]
  },
  {
   "cell_type": "code",
   "execution_count": 16,
   "id": "391144ff",
   "metadata": {},
   "outputs": [
    {
     "name": "stdout",
     "output_type": "stream",
     "text": [
      "Enter Name: Vikram\n",
      "Enter Roll number: QS23\n",
      "Enter Branch: IT\n",
      "Student Details:\n",
      "Name: Vikram\n",
      "Roll Number: QS23\n",
      "Branch: IT\n"
     ]
    }
   ],
   "source": [
    "def stdnt(a,c,b):\n",
    "    print(\"Student Details:\")\n",
    "    print(f\"Name: {c}\")\n",
    "    print(\"Roll Number: {}\".format(b))\n",
    "    print(\"Branch: {}\".format(a))\n",
    "    return\n",
    "\n",
    "p = input(\"Enter Name: \")\n",
    "r = input(\"Enter Roll number: \")\n",
    "z = input(\"Enter Branch: \")\n",
    "stdnt(c=p,a=z,b=r)"
   ]
  },
  {
   "cell_type": "code",
   "execution_count": 17,
   "id": "aea328f6",
   "metadata": {},
   "outputs": [
    {
     "name": "stdout",
     "output_type": "stream",
     "text": [
      "Enter Name: Harish\n",
      "Enter Roll number: ER45\n",
      "Enter Branch: EEE\n"
     ]
    },
    {
     "ename": "TypeError",
     "evalue": "stdnt() missing 1 required positional argument: 'dg'",
     "output_type": "error",
     "traceback": [
      "\u001b[1;31m---------------------------------------------------------------------------\u001b[0m",
      "\u001b[1;31mTypeError\u001b[0m                                 Traceback (most recent call last)",
      "Cell \u001b[1;32mIn[17], line 11\u001b[0m\n\u001b[0;32m      9\u001b[0m r \u001b[38;5;241m=\u001b[39m \u001b[38;5;28minput\u001b[39m(\u001b[38;5;124m\"\u001b[39m\u001b[38;5;124mEnter Roll number: \u001b[39m\u001b[38;5;124m\"\u001b[39m)\n\u001b[0;32m     10\u001b[0m z \u001b[38;5;241m=\u001b[39m \u001b[38;5;28minput\u001b[39m(\u001b[38;5;124m\"\u001b[39m\u001b[38;5;124mEnter Branch: \u001b[39m\u001b[38;5;124m\"\u001b[39m)\n\u001b[1;32m---> 11\u001b[0m \u001b[43mstdnt\u001b[49m\u001b[43m(\u001b[49m\u001b[43mc\u001b[49m\u001b[38;5;241;43m=\u001b[39;49m\u001b[43mp\u001b[49m\u001b[43m,\u001b[49m\u001b[43ma\u001b[49m\u001b[38;5;241;43m=\u001b[39;49m\u001b[43mz\u001b[49m\u001b[43m,\u001b[49m\u001b[43mb\u001b[49m\u001b[38;5;241;43m=\u001b[39;49m\u001b[43mr\u001b[49m\u001b[43m)\u001b[49m\n",
      "\u001b[1;31mTypeError\u001b[0m: stdnt() missing 1 required positional argument: 'dg'"
     ]
    }
   ],
   "source": [
    "def stdnt(dg,a,c,b):\n",
    "    print(\"Student Details:\")\n",
    "    print(f\"Name: {c}\")\n",
    "    print(\"Roll Number: {}\".format(b))\n",
    "    print(\"Branch: {}\".format(a))\n",
    "    return\n",
    "\n",
    "p = input(\"Enter Name: \")\n",
    "r = input(\"Enter Roll number: \")\n",
    "z = input(\"Enter Branch: \")\n",
    "stdnt(c=p,a=z,b=r)"
   ]
  },
  {
   "cell_type": "code",
   "execution_count": 18,
   "id": "18d2cc44",
   "metadata": {},
   "outputs": [
    {
     "ename": "SyntaxError",
     "evalue": "non-default argument follows default argument (2769432061.py, line 1)",
     "output_type": "error",
     "traceback": [
      "\u001b[1;36m  Cell \u001b[1;32mIn[18], line 1\u001b[1;36m\u001b[0m\n\u001b[1;33m    def stdnt(dg=\"GVP\",a,c,b):\u001b[0m\n\u001b[1;37m                         ^\u001b[0m\n\u001b[1;31mSyntaxError\u001b[0m\u001b[1;31m:\u001b[0m non-default argument follows default argument\n"
     ]
    }
   ],
   "source": [
    "def stdnt(dg=\"GVP\",a,c,b):\n",
    "    print(\"Student Details:\")\n",
    "    print(\"College Name: {}\".format(dg))\n",
    "    print(f\"Name: {c}\")\n",
    "    print(\"Roll Number: {}\".format(b))\n",
    "    print(\"Branch: {}\".format(a))\n",
    "    return\n",
    "\n",
    "p = input(\"Enter Name: \")\n",
    "r = input(\"Enter Roll number: \")\n",
    "z = input(\"Enter Branch: \")\n",
    "stdnt(c=p,a=z,b=r)"
   ]
  },
  {
   "cell_type": "code",
   "execution_count": 19,
   "id": "31cc5656",
   "metadata": {},
   "outputs": [
    {
     "ename": "SyntaxError",
     "evalue": "non-default argument follows default argument (2999299308.py, line 1)",
     "output_type": "error",
     "traceback": [
      "\u001b[1;36m  Cell \u001b[1;32mIn[19], line 1\u001b[1;36m\u001b[0m\n\u001b[1;33m    def stdnt(dg=\"GVP\",a,c,b):\u001b[0m\n\u001b[1;37m                         ^\u001b[0m\n\u001b[1;31mSyntaxError\u001b[0m\u001b[1;31m:\u001b[0m non-default argument follows default argument\n"
     ]
    }
   ],
   "source": [
    "def stdnt(dg=\"GVP\",a,c,b):\n",
    "    print(\"Student Details:\")\n",
    "    print(\"College Name: {}\".format(dg))\n",
    "    print(f\"Name: {c}\")\n",
    "    print(\"Roll Number: {}\".format(b))\n",
    "    print(\"Branch: {}\".format(a))\n",
    "    return\n",
    "\n",
    "p = input(\"Enter Name: \")\n",
    "r = input(\"Enter Roll number: \")\n",
    "z = input(\"Enter Branch: \")\n",
    "v = input(\"College Name: \")\n",
    "stdnt(c=p,a=z,b=r,dg=v)"
   ]
  },
  {
   "cell_type": "code",
   "execution_count": 20,
   "id": "abfb5ee8",
   "metadata": {},
   "outputs": [
    {
     "name": "stdout",
     "output_type": "stream",
     "text": [
      "Enter Name: Bijesh\n",
      "Enter Roll number: GH56\n",
      "Enter Branch: CIVIL\n",
      "College Name: AITT\n",
      "Student Details:\n",
      "College Name: AITT\n",
      "Name: Bijesh\n",
      "Roll Number: GH56\n",
      "Branch: CIVIL\n"
     ]
    }
   ],
   "source": [
    "def stdnt(a,c,b,dg=\"GVP\"):\n",
    "    print(\"Student Details:\")\n",
    "    print(\"College Name: {}\".format(dg))\n",
    "    print(f\"Name: {c}\")\n",
    "    print(\"Roll Number: {}\".format(b))\n",
    "    print(\"Branch: {}\".format(a))\n",
    "    return\n",
    "\n",
    "p = input(\"Enter Name: \")\n",
    "r = input(\"Enter Roll number: \")\n",
    "z = input(\"Enter Branch: \")\n",
    "v = input(\"College Name: \")\n",
    "stdnt(c=p,a=z,b=r,dg=v)"
   ]
  },
  {
   "cell_type": "code",
   "execution_count": 21,
   "id": "b6c1cb4f",
   "metadata": {},
   "outputs": [
    {
     "name": "stdout",
     "output_type": "stream",
     "text": [
      "Enter Name: Kiran\n",
      "Enter Roll number: ER45\n",
      "Enter Branch: CSE\n",
      "Student Details:\n",
      "College Name: GVP\n",
      "Name: Kiran\n",
      "Roll Number: ER45\n",
      "Branch: CSE\n"
     ]
    }
   ],
   "source": [
    "def stdnt(a,c,b,dg=\"GVP\"):\n",
    "    print(\"Student Details:\")\n",
    "    print(\"College Name: {}\".format(dg))\n",
    "    print(f\"Name: {c}\")\n",
    "    print(\"Roll Number: {}\".format(b))\n",
    "    print(\"Branch: {}\".format(a))\n",
    "    return\n",
    "\n",
    "p = input(\"Enter Name: \")\n",
    "r = input(\"Enter Roll number: \")\n",
    "z = input(\"Enter Branch: \")\n",
    "# v = input(\"College Name: \")\n",
    "stdnt(c=p,a=z,b=r)"
   ]
  },
  {
   "cell_type": "code",
   "execution_count": 22,
   "id": "c0de7e3c",
   "metadata": {},
   "outputs": [],
   "source": [
    "import demo"
   ]
  },
  {
   "cell_type": "code",
   "execution_count": 23,
   "id": "df1327ae",
   "metadata": {},
   "outputs": [
    {
     "name": "stdout",
     "output_type": "stream",
     "text": [
      "['Student', '__builtins__', '__cached__', '__doc__', '__file__', '__loader__', '__name__', '__package__', '__spec__', 'd', 'prntnumber']\n"
     ]
    }
   ],
   "source": [
    "print(dir(demo))"
   ]
  },
  {
   "cell_type": "code",
   "execution_count": 26,
   "id": "d8cba4f0",
   "metadata": {},
   "outputs": [
    {
     "name": "stdout",
     "output_type": "stream",
     "text": [
      "Welcome User\n",
      "Printing 10 numbers\n",
      "1,2,3,4,5,6,7,8,9,10,None\n",
      "['__class__', '__delattr__', '__dict__', '__dir__', '__doc__', '__eq__', '__format__', '__ge__', '__getattribute__', '__gt__', '__hash__', '__init__', '__init_subclass__', '__le__', '__lt__', '__module__', '__ne__', '__new__', '__reduce__', '__reduce_ex__', '__repr__', '__setattr__', '__sizeof__', '__str__', '__subclasshook__', '__weakref__', 'g', 'read_data']\n"
     ]
    }
   ],
   "source": [
    "print(demo.d)\n",
    "print(demo.prntnumber())\n",
    "# print(demo.Student)\n",
    "w = demo.Student\n",
    "print(dir(w))"
   ]
  },
  {
   "cell_type": "code",
   "execution_count": 27,
   "id": "ee666f4d",
   "metadata": {},
   "outputs": [
    {
     "name": "stdout",
     "output_type": "stream",
     "text": [
      "\n",
      "        Example for Student Class \n",
      "    \n"
     ]
    }
   ],
   "source": [
    "print(w.__doc__)"
   ]
  },
  {
   "cell_type": "code",
   "execution_count": 28,
   "id": "1a34465c",
   "metadata": {},
   "outputs": [
    {
     "name": "stdout",
     "output_type": "stream",
     "text": [
      "Good Evening\n"
     ]
    }
   ],
   "source": [
    "print(w.g)"
   ]
  },
  {
   "cell_type": "code",
   "execution_count": 29,
   "id": "e97761e1",
   "metadata": {},
   "outputs": [
    {
     "name": "stdout",
     "output_type": "stream",
     "text": [
      "Enter Roll Number: RT34\n",
      "Enter Your details: Kavya kavya2@gmail.com ECE \n",
      "None\n"
     ]
    }
   ],
   "source": [
    "print(w.read_data())"
   ]
  },
  {
   "cell_type": "markdown",
   "id": "249e2114",
   "metadata": {},
   "source": [
    "```\n",
    "Task:\n",
    "====\n",
    "    OOPS => Banking Application\n",
    "\n",
    "    Deposit\n",
    "    Balance Enquiry\n",
    "    Withdraw\n",
    "\n",
    "    class,object,method,inheritance,constructor\n",
    "```"
   ]
  },
  {
   "cell_type": "code",
   "execution_count": null,
   "id": "34e3b488",
   "metadata": {},
   "outputs": [],
   "source": []
  }
 ],
 "metadata": {
  "kernelspec": {
   "display_name": "Python 3 (ipykernel)",
   "language": "python",
   "name": "python3"
  },
  "language_info": {
   "codemirror_mode": {
    "name": "ipython",
    "version": 3
   },
   "file_extension": ".py",
   "mimetype": "text/x-python",
   "name": "python",
   "nbconvert_exporter": "python",
   "pygments_lexer": "ipython3",
   "version": "3.9.13"
  }
 },
 "nbformat": 4,
 "nbformat_minor": 5
}
