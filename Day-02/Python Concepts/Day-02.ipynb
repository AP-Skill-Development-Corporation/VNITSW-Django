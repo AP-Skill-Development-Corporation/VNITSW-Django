{
 "cells": [
  {
   "cell_type": "markdown",
   "id": "dbb8e2b9",
   "metadata": {},
   "source": [
    "# Python Concepts"
   ]
  },
  {
   "cell_type": "markdown",
   "id": "cb5f7ac7",
   "metadata": {},
   "source": [
    "## Data Structures:\n",
    "    - List\n",
    "    - Tuple\n",
    "    - Dictionary"
   ]
  },
  {
   "cell_type": "markdown",
   "id": "d58e4e5d",
   "metadata": {},
   "source": [
    "## List:\n",
    "    - It stores all data type values\n",
    "    - It can be represented as [] and seperated with , elements\n",
    "    - It stores data in ordered format\n",
    "    - Slicing can be done because of index\n",
    "    - It can changes a value\n",
    "    - It can be typecasted as list()\n",
    "    - It stores duplicate values"
   ]
  },
  {
   "cell_type": "code",
   "execution_count": 1,
   "id": "63100040",
   "metadata": {},
   "outputs": [
    {
     "name": "stdout",
     "output_type": "stream",
     "text": [
      "[] <class 'list'>\n",
      "[] <class 'list'>\n"
     ]
    }
   ],
   "source": [
    "h = []\n",
    "print(h,type(h))\n",
    "g = list()\n",
    "print(g,type(g))"
   ]
  },
  {
   "cell_type": "code",
   "execution_count": 2,
   "id": "fab0fcfc",
   "metadata": {},
   "outputs": [
    {
     "name": "stdout",
     "output_type": "stream",
     "text": [
      "[]\n",
      "[45]\n"
     ]
    }
   ],
   "source": [
    "print(h)\n",
    "h.append(45)\n",
    "print(h)"
   ]
  },
  {
   "cell_type": "code",
   "execution_count": 3,
   "id": "e5b661fd",
   "metadata": {},
   "outputs": [
    {
     "name": "stdout",
     "output_type": "stream",
     "text": [
      "['__add__', '__class__', '__class_getitem__', '__contains__', '__delattr__', '__delitem__', '__dir__', '__doc__', '__eq__', '__format__', '__ge__', '__getattribute__', '__getitem__', '__gt__', '__hash__', '__iadd__', '__imul__', '__init__', '__init_subclass__', '__iter__', '__le__', '__len__', '__lt__', '__mul__', '__ne__', '__new__', '__reduce__', '__reduce_ex__', '__repr__', '__reversed__', '__rmul__', '__setattr__', '__setitem__', '__sizeof__', '__str__', '__subclasshook__', 'append', 'clear', 'copy', 'count', 'extend', 'index', 'insert', 'pop', 'remove', 'reverse', 'sort']\n"
     ]
    }
   ],
   "source": [
    "print(dir(h))"
   ]
  },
  {
   "cell_type": "code",
   "execution_count": 5,
   "id": "dabb13ab",
   "metadata": {},
   "outputs": [
    {
     "name": "stdout",
     "output_type": "stream",
     "text": [
      "Help on method_descriptor:\n",
      "\n",
      "extend(self, iterable, /)\n",
      "    Extend list by appending elements from the iterable.\n",
      "\n"
     ]
    }
   ],
   "source": [
    "help(list.extend)"
   ]
  },
  {
   "cell_type": "code",
   "execution_count": 6,
   "id": "9e482e4f",
   "metadata": {},
   "outputs": [
    {
     "name": "stdout",
     "output_type": "stream",
     "text": [
      "Extend list by appending elements from the iterable.\n"
     ]
    }
   ],
   "source": [
    "print(list.extend.__doc__)"
   ]
  },
  {
   "cell_type": "markdown",
   "id": "7aea3067",
   "metadata": {},
   "source": [
    "# Tuple:\n",
    "    - It stores all data type values\n",
    "    - It can be represented as () and seperated with , elements\n",
    "    - It stores data in ordered format\n",
    "    - Slicing can be done because of index\n",
    "    - It can't changes a value\n",
    "    - It can be typecasted as tuple()\n",
    "    - It stores duplicate values"
   ]
  },
  {
   "cell_type": "markdown",
   "id": "2453019a",
   "metadata": {},
   "source": [
    "## Dictionary:\n",
    "    - It can be represented as empty {}, by default it will be set because if the values or existing in it then it will be considered as set\n",
    "    - It stores the value in key and value pair format\n",
    "    - Keys cant be used as duplicate values but values can\n",
    "    - {(,[]),(,()),(,{0})}\n",
    "    - Slicing can't be done for keys\n",
    "    - values can be accessed by using keys\n",
    "    - It can be typecasted as dict()"
   ]
  },
  {
   "cell_type": "code",
   "execution_count": 8,
   "id": "1760690e",
   "metadata": {},
   "outputs": [
    {
     "name": "stdout",
     "output_type": "stream",
     "text": [
      "{} <class 'dict'>\n",
      "{'3'} <class 'set'>\n"
     ]
    }
   ],
   "source": [
    "g = {}\n",
    "k = {'3'}\n",
    "print(g,type(g))\n",
    "print(k,type(k))"
   ]
  },
  {
   "cell_type": "code",
   "execution_count": 9,
   "id": "c84d8a3d",
   "metadata": {},
   "outputs": [
    {
     "name": "stdout",
     "output_type": "stream",
     "text": [
      "['__add__', '__class__', '__class_getitem__', '__contains__', '__delattr__', '__dir__', '__doc__', '__eq__', '__format__', '__ge__', '__getattribute__', '__getitem__', '__getnewargs__', '__gt__', '__hash__', '__init__', '__init_subclass__', '__iter__', '__le__', '__len__', '__lt__', '__mul__', '__ne__', '__new__', '__reduce__', '__reduce_ex__', '__repr__', '__rmul__', '__setattr__', '__sizeof__', '__str__', '__subclasshook__', 'count', 'index']\n"
     ]
    }
   ],
   "source": [
    "print(dir(tuple))"
   ]
  },
  {
   "cell_type": "code",
   "execution_count": 11,
   "id": "34713a4c",
   "metadata": {},
   "outputs": [
    {
     "name": "stdout",
     "output_type": "stream",
     "text": [
      "['__class__', '__class_getitem__', '__contains__', '__delattr__', '__delitem__', '__dir__', '__doc__', '__eq__', '__format__', '__ge__', '__getattribute__', '__getitem__', '__gt__', '__hash__', '__init__', '__init_subclass__', '__ior__', '__iter__', '__le__', '__len__', '__lt__', '__ne__', '__new__', '__or__', '__reduce__', '__reduce_ex__', '__repr__', '__reversed__', '__ror__', '__setattr__', '__setitem__', '__sizeof__', '__str__', '__subclasshook__', 'clear', 'copy', 'fromkeys', 'get', 'items', 'keys', 'pop', 'popitem', 'setdefault', 'update', 'values']\n"
     ]
    }
   ],
   "source": [
    "print(dir(dict))"
   ]
  },
  {
   "cell_type": "code",
   "execution_count": 13,
   "id": "99018468",
   "metadata": {},
   "outputs": [
    {
     "name": "stdout",
     "output_type": "stream",
     "text": [
      "{'s123': ['raju', 'raju@gmail.com', 'cse', 45], 's124': ['rajesh', 'rajesh@gmail.com', 'CSD', 50]}\n"
     ]
    }
   ],
   "source": [
    "h = {'s123':['raju','raju@gmail.com','cse',45],'s124':['rajesh','rajesh@gmail.com','CSD',50]}\n",
    "print(h)"
   ]
  },
  {
   "cell_type": "markdown",
   "id": "d0219703",
   "metadata": {},
   "source": [
    "```\n",
    "    Task-1:\n",
    "    =======\n",
    "    Input:\n",
    "        Enter Your Roll number: ?\n",
    "        Enter Your details: name mailid branch time\n",
    "    Output:\n",
    "        Roll number: ?\n",
    "        Your details:\n",
    "        =============\n",
    "            Name: ?????\n",
    "            Mailid: ?????\n",
    "            Branch: ???\n",
    "            Time: ????\n",
    "   \n",
    "   Task-2:\n",
    "   =======\n",
    "   Input:\n",
    "       Number of records need to insert: 3\n",
    "       Enter Your Roll number: ?\n",
    "       Enter Your details: name mailid branch time\n",
    "       Enter Your Roll number: ?\n",
    "       Enter Your details: name mailid branch time\n",
    "       Enter Your Roll number: ?\n",
    "       Enter Your details: name mailid branch time\n",
    "   Output:\n",
    "        Roll number: ?\n",
    "        Your details:\n",
    "        =============\n",
    "            Name: ?????\n",
    "            Mailid: ?????\n",
    "            Branch: ???\n",
    "            Time: ????\n",
    "        Roll number: ?\n",
    "        Your details:\n",
    "        =============\n",
    "            Name: ?????\n",
    "            Mailid: ?????\n",
    "            Branch: ???\n",
    "            Time: ????\n",
    "        Roll number: ?\n",
    "        Your details:\n",
    "        =============\n",
    "            Name: ?????\n",
    "            Mailid: ?????\n",
    "            Branch: ???\n",
    "            Time: ????\n",
    "```"
   ]
  },
  {
   "cell_type": "markdown",
   "id": "e79a5193",
   "metadata": {},
   "source": [
    "## Functions:\n",
    "    - To perform a specific task\n",
    "    - 2 types\n",
    "        => Bulitin\n",
    "            => range,max,min,sum,input etc.,\n",
    "        => User defined\n",
    "            => 4 types\n",
    "                => with returntype and with arguments\n",
    "                => with returntype and without arguments\n",
    "                => without returntype and with arguments\n",
    "                => without returntype and without arguments\n",
    "    Syntax:\n",
    "        def functioname(arguments):\n",
    "            //statements\n",
    "            return return_value"
   ]
  },
  {
   "cell_type": "markdown",
   "id": "cf997263",
   "metadata": {},
   "source": [
    "## Function Argument types:\n",
    "    - Required or Positional\n",
    "    - Default\n",
    "    - Keyword\n",
    "    - Variable-Length\n",
    "        => Arbitary required\n",
    "        => Arbitary keyword"
   ]
  },
  {
   "cell_type": "markdown",
   "id": "ec9d9309",
   "metadata": {},
   "source": [
    "# Packages and Modules:\n",
    "    Package:\n",
    "    ========\n",
    "        - Collection of sub packages and modules\n",
    "        Ex: folder => package\n",
    "            folder within a folder => sub-package\n",
    "    Module:\n",
    "    =======\n",
    "        - Collection of variables,functions and classes\n",
    "        Ex: .py file\n",
    "            class,variable,functions and methods\n",
    "    "
   ]
  },
  {
   "cell_type": "markdown",
   "id": "25346443",
   "metadata": {},
   "source": [
    "## Module import\n",
    "    => Same location [execution file and access file]\n",
    "    => import modulename\n",
    "    => modulename.variablename\n",
    "       modulename.classname\n",
    "       modulename.functioname\n",
    "       modulename.classname.method"
   ]
  },
  {
   "cell_type": "code",
   "execution_count": 1,
   "id": "22f52f18",
   "metadata": {},
   "outputs": [],
   "source": [
    "import demo"
   ]
  },
  {
   "cell_type": "code",
   "execution_count": 2,
   "id": "586828af",
   "metadata": {},
   "outputs": [
    {
     "name": "stdout",
     "output_type": "stream",
     "text": [
      "['__builtins__', '__cached__', '__doc__', '__file__', '__loader__', '__name__', '__package__', '__spec__', 'd', 'prntnumber']\n"
     ]
    }
   ],
   "source": [
    "print(dir(demo))"
   ]
  },
  {
   "cell_type": "code",
   "execution_count": 3,
   "id": "08e4a3e0",
   "metadata": {},
   "outputs": [
    {
     "name": "stdout",
     "output_type": "stream",
     "text": [
      "Welcome User\n"
     ]
    }
   ],
   "source": [
    "print(demo.d)"
   ]
  },
  {
   "cell_type": "code",
   "execution_count": 5,
   "id": "fc9cecd2",
   "metadata": {},
   "outputs": [
    {
     "name": "stdout",
     "output_type": "stream",
     "text": [
      "Printing 10 numbers\n",
      "1,2,3,4,5,6,7,8,9,10,"
     ]
    }
   ],
   "source": [
    "demo.prntnumber()"
   ]
  },
  {
   "cell_type": "code",
   "execution_count": null,
   "id": "3bd53fc5",
   "metadata": {},
   "outputs": [],
   "source": []
  }
 ],
 "metadata": {
  "kernelspec": {
   "display_name": "Python 3 (ipykernel)",
   "language": "python",
   "name": "python3"
  },
  "language_info": {
   "codemirror_mode": {
    "name": "ipython",
    "version": 3
   },
   "file_extension": ".py",
   "mimetype": "text/x-python",
   "name": "python",
   "nbconvert_exporter": "python",
   "pygments_lexer": "ipython3",
   "version": "3.9.13"
  }
 },
 "nbformat": 4,
 "nbformat_minor": 5
}
